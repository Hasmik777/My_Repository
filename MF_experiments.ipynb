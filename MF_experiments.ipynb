{
 "cells": [
  {
   "cell_type": "code",
   "execution_count": 1,
   "metadata": {},
   "outputs": [],
   "source": [
    "import numpy as np\n",
    "import pandas as pd\n",
    "from tqdm import tqdm\n",
    "from collections import Counter\n",
    "from sklearn.model_selection import train_test_split"
   ]
  },
  {
   "cell_type": "code",
   "execution_count": null,
   "metadata": {},
   "outputs": [],
   "source": []
  },
  {
   "cell_type": "code",
   "execution_count": 2,
   "metadata": {},
   "outputs": [
    {
     "name": "stderr",
     "output_type": "stream",
     "text": [
      "C:\\Users\\User\\Anaconda3\\lib\\site-packages\\ipykernel_launcher.py:1: ParserWarning: Falling back to the 'python' engine because the 'c' engine does not support regex separators (separators > 1 char and different from '\\s+' are interpreted as regex); you can avoid this warning by specifying engine='python'.\n",
      "  \"\"\"Entry point for launching an IPython kernel.\n",
      "C:\\Users\\User\\Anaconda3\\lib\\site-packages\\ipykernel_launcher.py:2: ParserWarning: Falling back to the 'python' engine because the 'c' engine does not support regex separators (separators > 1 char and different from '\\s+' are interpreted as regex); you can avoid this warning by specifying engine='python'.\n",
      "  \n"
     ]
    }
   ],
   "source": [
    "ratings = pd.read_csv('ratings.dat', names = ['userId','movieId','rating','timestamp'], delimiter='::')\n",
    "movies = pd.read_csv('movies.dat', names = ['movieId','title','genres'], delimiter='::')"
   ]
  },
  {
   "cell_type": "code",
   "execution_count": 3,
   "metadata": {},
   "outputs": [
    {
     "data": {
      "text/html": [
       "<div>\n",
       "<style scoped>\n",
       "    .dataframe tbody tr th:only-of-type {\n",
       "        vertical-align: middle;\n",
       "    }\n",
       "\n",
       "    .dataframe tbody tr th {\n",
       "        vertical-align: top;\n",
       "    }\n",
       "\n",
       "    .dataframe thead th {\n",
       "        text-align: right;\n",
       "    }\n",
       "</style>\n",
       "<table border=\"1\" class=\"dataframe\">\n",
       "  <thead>\n",
       "    <tr style=\"text-align: right;\">\n",
       "      <th></th>\n",
       "      <th>userId</th>\n",
       "      <th>movieId</th>\n",
       "      <th>rating</th>\n",
       "      <th>timestamp</th>\n",
       "    </tr>\n",
       "  </thead>\n",
       "  <tbody>\n",
       "    <tr>\n",
       "      <th>0</th>\n",
       "      <td>1</td>\n",
       "      <td>1193</td>\n",
       "      <td>5</td>\n",
       "      <td>978300760</td>\n",
       "    </tr>\n",
       "    <tr>\n",
       "      <th>1</th>\n",
       "      <td>1</td>\n",
       "      <td>661</td>\n",
       "      <td>3</td>\n",
       "      <td>978302109</td>\n",
       "    </tr>\n",
       "    <tr>\n",
       "      <th>2</th>\n",
       "      <td>1</td>\n",
       "      <td>914</td>\n",
       "      <td>3</td>\n",
       "      <td>978301968</td>\n",
       "    </tr>\n",
       "    <tr>\n",
       "      <th>3</th>\n",
       "      <td>1</td>\n",
       "      <td>3408</td>\n",
       "      <td>4</td>\n",
       "      <td>978300275</td>\n",
       "    </tr>\n",
       "    <tr>\n",
       "      <th>4</th>\n",
       "      <td>1</td>\n",
       "      <td>2355</td>\n",
       "      <td>5</td>\n",
       "      <td>978824291</td>\n",
       "    </tr>\n",
       "  </tbody>\n",
       "</table>\n",
       "</div>"
      ],
      "text/plain": [
       "   userId  movieId  rating  timestamp\n",
       "0       1     1193       5  978300760\n",
       "1       1      661       3  978302109\n",
       "2       1      914       3  978301968\n",
       "3       1     3408       4  978300275\n",
       "4       1     2355       5  978824291"
      ]
     },
     "execution_count": 3,
     "metadata": {},
     "output_type": "execute_result"
    }
   ],
   "source": [
    "ratings.head()"
   ]
  },
  {
   "cell_type": "code",
   "execution_count": 8,
   "metadata": {},
   "outputs": [
    {
     "data": {
      "text/html": [
       "<div>\n",
       "<style scoped>\n",
       "    .dataframe tbody tr th:only-of-type {\n",
       "        vertical-align: middle;\n",
       "    }\n",
       "\n",
       "    .dataframe tbody tr th {\n",
       "        vertical-align: top;\n",
       "    }\n",
       "\n",
       "    .dataframe thead th {\n",
       "        text-align: right;\n",
       "    }\n",
       "</style>\n",
       "<table border=\"1\" class=\"dataframe\">\n",
       "  <thead>\n",
       "    <tr style=\"text-align: right;\">\n",
       "      <th></th>\n",
       "      <th>movieId</th>\n",
       "      <th>title</th>\n",
       "      <th>genres</th>\n",
       "    </tr>\n",
       "  </thead>\n",
       "  <tbody>\n",
       "    <tr>\n",
       "      <th>0</th>\n",
       "      <td>1</td>\n",
       "      <td>Toy Story (1995)</td>\n",
       "      <td>Animation|Children's|Comedy</td>\n",
       "    </tr>\n",
       "    <tr>\n",
       "      <th>1</th>\n",
       "      <td>2</td>\n",
       "      <td>Jumanji (1995)</td>\n",
       "      <td>Adventure|Children's|Fantasy</td>\n",
       "    </tr>\n",
       "    <tr>\n",
       "      <th>2</th>\n",
       "      <td>3</td>\n",
       "      <td>Grumpier Old Men (1995)</td>\n",
       "      <td>Comedy|Romance</td>\n",
       "    </tr>\n",
       "    <tr>\n",
       "      <th>3</th>\n",
       "      <td>4</td>\n",
       "      <td>Waiting to Exhale (1995)</td>\n",
       "      <td>Comedy|Drama</td>\n",
       "    </tr>\n",
       "    <tr>\n",
       "      <th>4</th>\n",
       "      <td>5</td>\n",
       "      <td>Father of the Bride Part II (1995)</td>\n",
       "      <td>Comedy</td>\n",
       "    </tr>\n",
       "  </tbody>\n",
       "</table>\n",
       "</div>"
      ],
      "text/plain": [
       "   movieId                               title                        genres\n",
       "0        1                    Toy Story (1995)   Animation|Children's|Comedy\n",
       "1        2                      Jumanji (1995)  Adventure|Children's|Fantasy\n",
       "2        3             Grumpier Old Men (1995)                Comedy|Romance\n",
       "3        4            Waiting to Exhale (1995)                  Comedy|Drama\n",
       "4        5  Father of the Bride Part II (1995)                        Comedy"
      ]
     },
     "execution_count": 8,
     "metadata": {},
     "output_type": "execute_result"
    }
   ],
   "source": [
    "movies.head()"
   ]
  },
  {
   "cell_type": "code",
   "execution_count": 258,
   "metadata": {},
   "outputs": [
    {
     "data": {
      "text/plain": [
       "(3706, 6040)"
      ]
     },
     "execution_count": 258,
     "metadata": {},
     "output_type": "execute_result"
    }
   ],
   "source": [
    "ratings.movieId.nunique(), ratings.userId.nunique()"
   ]
  },
  {
   "cell_type": "code",
   "execution_count": 9,
   "metadata": {},
   "outputs": [
    {
     "data": {
      "text/plain": [
       "((1000209, 4), (3883, 3))"
      ]
     },
     "execution_count": 9,
     "metadata": {},
     "output_type": "execute_result"
    }
   ],
   "source": [
    "ratings.shape, movies.shape"
   ]
  },
  {
   "cell_type": "code",
   "execution_count": null,
   "metadata": {},
   "outputs": [],
   "source": []
  },
  {
   "cell_type": "code",
   "execution_count": 10,
   "metadata": {},
   "outputs": [],
   "source": [
    "train, test = train_test_split(ratings, test_size = 0.2, random_state=15)"
   ]
  },
  {
   "cell_type": "code",
   "execution_count": 11,
   "metadata": {},
   "outputs": [
    {
     "data": {
      "text/plain": [
       "((800167, 4), (200042, 4))"
      ]
     },
     "execution_count": 11,
     "metadata": {},
     "output_type": "execute_result"
    }
   ],
   "source": [
    "train.shape, test.shape"
   ]
  },
  {
   "cell_type": "code",
   "execution_count": 12,
   "metadata": {},
   "outputs": [
    {
     "data": {
      "text/plain": [
       "(6040, 3676)"
      ]
     },
     "execution_count": 12,
     "metadata": {},
     "output_type": "execute_result"
    }
   ],
   "source": [
    "N_users = train.userId.nunique()\n",
    "N_movies = train.movieId.nunique()\n",
    "N_users, N_movies"
   ]
  },
  {
   "cell_type": "code",
   "execution_count": 13,
   "metadata": {},
   "outputs": [
    {
     "data": {
      "text/plain": [
       "(200008, 4)"
      ]
     },
     "execution_count": 13,
     "metadata": {},
     "output_type": "execute_result"
    }
   ],
   "source": [
    "test = test[test.movieId.isin(train.movieId.unique())]\n",
    "test.shape"
   ]
  },
  {
   "cell_type": "code",
   "execution_count": null,
   "metadata": {},
   "outputs": [],
   "source": []
  },
  {
   "cell_type": "code",
   "execution_count": null,
   "metadata": {},
   "outputs": [],
   "source": []
  },
  {
   "cell_type": "code",
   "execution_count": 14,
   "metadata": {},
   "outputs": [],
   "source": [
    "N_factors = 50\n",
    "user_factors = np.random.randn(N_users, N_factors)\n",
    "movie_factors = np.random.randn(N_movies, N_factors)"
   ]
  },
  {
   "cell_type": "code",
   "execution_count": 15,
   "metadata": {},
   "outputs": [
    {
     "name": "stderr",
     "output_type": "stream",
     "text": [
      "C:\\Users\\User\\Anaconda3\\lib\\site-packages\\ipykernel_launcher.py:4: SettingWithCopyWarning: \n",
      "A value is trying to be set on a copy of a slice from a DataFrame.\n",
      "Try using .loc[row_indexer,col_indexer] = value instead\n",
      "\n",
      "See the caveats in the documentation: http://pandas.pydata.org/pandas-docs/stable/indexing.html#indexing-view-versus-copy\n",
      "  after removing the cwd from sys.path.\n",
      "C:\\Users\\User\\Anaconda3\\lib\\site-packages\\ipykernel_launcher.py:5: SettingWithCopyWarning: \n",
      "A value is trying to be set on a copy of a slice from a DataFrame.\n",
      "Try using .loc[row_indexer,col_indexer] = value instead\n",
      "\n",
      "See the caveats in the documentation: http://pandas.pydata.org/pandas-docs/stable/indexing.html#indexing-view-versus-copy\n",
      "  \"\"\"\n"
     ]
    }
   ],
   "source": [
    "movie_enum_dict = {k : v for v, k in enumerate(train.movieId.unique())}\n",
    "user_enum_dict = {k : v for v, k in enumerate(ratings.userId.unique())}\n",
    "\n",
    "train['movieEnum'] = train.movieId.map(movie_enum_dict)\n",
    "train['userEnum'] = train.userId.map(user_enum_dict)\n",
    "\n",
    "test['movieEnum'] = test.movieId.map(movie_enum_dict)\n",
    "test['userEnum'] = test.userId.map(user_enum_dict)"
   ]
  },
  {
   "cell_type": "code",
   "execution_count": null,
   "metadata": {},
   "outputs": [],
   "source": []
  },
  {
   "cell_type": "code",
   "execution_count": null,
   "metadata": {},
   "outputs": [],
   "source": []
  },
  {
   "cell_type": "code",
   "execution_count": 16,
   "metadata": {},
   "outputs": [
    {
     "data": {
      "text/plain": [
       "3.5819935088550263"
      ]
     },
     "execution_count": 16,
     "metadata": {},
     "output_type": "execute_result"
    }
   ],
   "source": [
    "train.rating.mean()"
   ]
  },
  {
   "cell_type": "code",
   "execution_count": 17,
   "metadata": {},
   "outputs": [
    {
     "data": {
      "text/plain": [
       "((800167, 2), (200008, 2))"
      ]
     },
     "execution_count": 17,
     "metadata": {},
     "output_type": "execute_result"
    }
   ],
   "source": [
    "X_train = np.array(train[['userEnum','movieEnum']], dtype = np.int16)\n",
    "y_train = np.array(train.rating) - 3.5\n",
    "\n",
    "X_test = np.array(test[['userEnum','movieEnum']], dtype = np.int16)\n",
    "y_test = np.array(test.rating) - 3.5\n",
    "X_train.shape, X_test.shape"
   ]
  },
  {
   "cell_type": "code",
   "execution_count": null,
   "metadata": {},
   "outputs": [],
   "source": []
  },
  {
   "cell_type": "code",
   "execution_count": 18,
   "metadata": {},
   "outputs": [],
   "source": [
    "def rmse(data, labels):\n",
    "    preds = np.einsum('ij,ij->i',user_factors[data[:,0]], movie_factors[data[:,1]])\n",
    "    return np.mean((labels - preds)**2)\n",
    "\n",
    "def sgd_generator(data, labels):\n",
    "    for i in np.random.permutation(np.arange(len(data))):\n",
    "        yield data[i], labels[i]"
   ]
  },
  {
   "cell_type": "code",
   "execution_count": 19,
   "metadata": {},
   "outputs": [
    {
     "name": "stderr",
     "output_type": "stream",
     "text": [
      "  8%|▊         | 4/50 [02:42<31:17, 40.82s/it]"
     ]
    },
    {
     "name": "stdout",
     "output_type": "stream",
     "text": [
      "train rmse: 0.779, test rmse: 1.274\n"
     ]
    },
    {
     "name": "stderr",
     "output_type": "stream",
     "text": [
      " 18%|█▊        | 9/50 [06:12<28:00, 40.99s/it]"
     ]
    },
    {
     "name": "stdout",
     "output_type": "stream",
     "text": [
      "train rmse: 0.698, test rmse: 0.966\n"
     ]
    },
    {
     "name": "stderr",
     "output_type": "stream",
     "text": [
      " 28%|██▊       | 14/50 [09:35<24:24, 40.68s/it]"
     ]
    },
    {
     "name": "stdout",
     "output_type": "stream",
     "text": [
      "train rmse: 0.681, test rmse: 0.879\n"
     ]
    },
    {
     "name": "stderr",
     "output_type": "stream",
     "text": [
      " 38%|███▊      | 19/50 [13:07<21:34, 41.77s/it]"
     ]
    },
    {
     "name": "stdout",
     "output_type": "stream",
     "text": [
      "train rmse: 0.671, test rmse: 0.837\n"
     ]
    },
    {
     "name": "stderr",
     "output_type": "stream",
     "text": [
      " 48%|████▊     | 24/50 [16:39<18:21, 42.36s/it]"
     ]
    },
    {
     "name": "stdout",
     "output_type": "stream",
     "text": [
      "train rmse: 0.663, test rmse: 0.814\n"
     ]
    },
    {
     "name": "stderr",
     "output_type": "stream",
     "text": [
      " 58%|█████▊    | 29/50 [20:04<14:19, 40.93s/it]"
     ]
    },
    {
     "name": "stdout",
     "output_type": "stream",
     "text": [
      "train rmse: 0.658, test rmse: 0.799\n"
     ]
    },
    {
     "name": "stderr",
     "output_type": "stream",
     "text": [
      " 68%|██████▊   | 34/50 [23:32<11:06, 41.68s/it]"
     ]
    },
    {
     "name": "stdout",
     "output_type": "stream",
     "text": [
      "train rmse: 0.652, test rmse: 0.789\n"
     ]
    },
    {
     "name": "stderr",
     "output_type": "stream",
     "text": [
      " 78%|███████▊  | 39/50 [27:03<07:40, 41.83s/it]"
     ]
    },
    {
     "name": "stdout",
     "output_type": "stream",
     "text": [
      "train rmse: 0.649, test rmse: 0.782\n"
     ]
    },
    {
     "name": "stderr",
     "output_type": "stream",
     "text": [
      " 88%|████████▊ | 44/50 [30:40<04:17, 42.88s/it]"
     ]
    },
    {
     "name": "stdout",
     "output_type": "stream",
     "text": [
      "train rmse: 0.645, test rmse: 0.777\n"
     ]
    },
    {
     "name": "stderr",
     "output_type": "stream",
     "text": [
      " 98%|█████████▊| 49/50 [34:13<00:42, 42.12s/it]"
     ]
    },
    {
     "name": "stdout",
     "output_type": "stream",
     "text": [
      "train rmse: 0.642, test rmse: 0.773\n"
     ]
    },
    {
     "name": "stderr",
     "output_type": "stream",
     "text": [
      "100%|██████████| 50/50 [34:58<00:00, 43.11s/it]\n"
     ]
    }
   ],
   "source": [
    "N_epochs = 50\n",
    "lr = 0.01\n",
    "reg = 0.1\n",
    "for epoch in tqdm(range(N_epochs)):\n",
    "    for (user_ix, movie_ix), rating_i in sgd_generator(X_train, y_train):\n",
    "        user_i = user_factors[user_ix]\n",
    "        movie_i = movie_factors[movie_ix]\n",
    "        pred = np.dot(user_factors[user_ix], movie_factors[movie_ix])\n",
    "        pred_err = rating_i - pred\n",
    "        \n",
    "        user_factors[user_ix] = user_factors[user_ix] + lr * (pred_err*movie_factors[movie_ix] - reg*user_factors[user_ix])\n",
    "        movie_factors[movie_ix] = movie_factors[movie_ix] + lr * (pred_err*user_factors[user_ix] - reg*movie_factors[movie_ix])\n",
    "        \n",
    "    if (epoch+1) % 5 ==0:\n",
    "        print ('train rmse: {:.3f}, test rmse: {:.3f}'.format(rmse(X_train, y_train), rmse(X_test, y_test)))"
   ]
  },
  {
   "cell_type": "code",
   "execution_count": null,
   "metadata": {},
   "outputs": [],
   "source": []
  },
  {
   "cell_type": "code",
   "execution_count": 20,
   "metadata": {},
   "outputs": [
    {
     "name": "stderr",
     "output_type": "stream",
     "text": [
      "100%|██████████| 24/24 [01:22<00:00,  5.20s/it]\n"
     ]
    }
   ],
   "source": [
    "from sklearn.cluster import KMeans\n",
    "from matplotlib import pyplot as plt\n",
    "\n",
    "X = movie_factors\n",
    "distorsions = []\n",
    "for k in tqdm(range(2, 50, 2)):\n",
    "    kmeans = KMeans(n_clusters=k)\n",
    "    kmeans.fit(X)\n",
    "    distorsions.append(kmeans.inertia_)"
   ]
  },
  {
   "cell_type": "code",
   "execution_count": 21,
   "metadata": {},
   "outputs": [
    {
     "data": {
      "image/png": "[encoded data removed]",
      "text/plain": [
       "<Figure size 720x360 with 1 Axes>"
      ]
     },
     "metadata": {
      "needs_background": "light"
     },
     "output_type": "display_data"
    }
   ],
   "source": [
    "fig = plt.figure(figsize=(10, 5))\n",
    "plt.plot(range(2, 50, 2), distorsions)\n",
    "plt.grid(True)\n",
    "plt.title('Elbow curve')\n",
    "plt.show()"
   ]
  },
  {
   "cell_type": "code",
   "execution_count": null,
   "metadata": {},
   "outputs": [],
   "source": []
  },
  {
   "cell_type": "code",
   "execution_count": 22,
   "metadata": {},
   "outputs": [
    {
     "data": {
      "text/plain": [
       "KMeans(algorithm='auto', copy_x=True, init='k-means++', max_iter=300,\n",
       "    n_clusters=10, n_init=10, n_jobs=None, precompute_distances='auto',\n",
       "    random_state=7, tol=0.0001, verbose=0)"
      ]
     },
     "execution_count": 22,
     "metadata": {},
     "output_type": "execute_result"
    }
   ],
   "source": [
    "kmeans = KMeans(n_clusters=10, random_state=7)\n",
    "kmeans.fit(X)"
   ]
  },
  {
   "cell_type": "code",
   "execution_count": 23,
   "metadata": {},
   "outputs": [],
   "source": [
    "clusts = kmeans.predict(X)"
   ]
  },
  {
   "cell_type": "code",
   "execution_count": 24,
   "metadata": {},
   "outputs": [
    {
     "data": {
      "text/plain": [
       "Counter({9: 1284,\n",
       "         7: 1267,\n",
       "         4: 758,\n",
       "         0: 95,\n",
       "         1: 111,\n",
       "         6: 104,\n",
       "         8: 3,\n",
       "         2: 52,\n",
       "         3: 1,\n",
       "         5: 1})"
      ]
     },
     "execution_count": 24,
     "metadata": {},
     "output_type": "execute_result"
    }
   ],
   "source": [
    "Counter(clusts)"
   ]
  },
  {
   "cell_type": "code",
   "execution_count": 25,
   "metadata": {},
   "outputs": [],
   "source": [
    "clusts_dict = {movie_enum : cluster for movie_enum, cluster in enumerate(clusts)}"
   ]
  },
  {
   "cell_type": "code",
   "execution_count": 26,
   "metadata": {},
   "outputs": [
    {
     "data": {
      "text/plain": [
       "(3676, 3)"
      ]
     },
     "execution_count": 26,
     "metadata": {},
     "output_type": "execute_result"
    }
   ],
   "source": [
    "movies = movies[movies.movieId.isin(train.movieId.unique())]\n",
    "movies.shape"
   ]
  },
  {
   "cell_type": "code",
   "execution_count": 27,
   "metadata": {},
   "outputs": [],
   "source": [
    "movies['movieEnum'] = movies.movieId.map(movie_enum_dict)\n",
    "movies['clusts'] = movies.movieEnum.map(clusts_dict)"
   ]
  },
  {
   "cell_type": "code",
   "execution_count": null,
   "metadata": {},
   "outputs": [],
   "source": []
  },
  {
   "cell_type": "code",
   "execution_count": null,
   "metadata": {},
   "outputs": [],
   "source": []
  },
  {
   "cell_type": "code",
   "execution_count": 175,
   "metadata": {},
   "outputs": [],
   "source": [
    "genres = [i.split('|') for i in movies.genres.values]\n",
    "genres_counter = Counter([j for i in genres for j in i])"
   ]
  },
  {
   "cell_type": "code",
   "execution_count": 176,
   "metadata": {},
   "outputs": [
    {
     "data": {
      "text/plain": [
       "[('Drama', 1477),\n",
       " ('Comedy', 1157),\n",
       " ('Action', 494),\n",
       " ('Thriller', 481),\n",
       " ('Romance', 457),\n",
       " ('Horror', 339),\n",
       " ('Adventure', 278),\n",
       " ('Sci-Fi', 273),\n",
       " (\"Children's\", 250),\n",
       " ('Crime', 200),\n",
       " ('War', 141),\n",
       " ('Musical', 112),\n",
       " ('Documentary', 107),\n",
       " ('Animation', 105),\n",
       " ('Mystery', 103),\n",
       " ('Fantasy', 68),\n",
       " ('Western', 66),\n",
       " ('Film-Noir', 44)]"
      ]
     },
     "execution_count": 176,
     "metadata": {},
     "output_type": "execute_result"
    }
   ],
   "source": [
    "sorted(genres_counter.items(), key=lambda x:x[1], reverse=True)"
   ]
  },
  {
   "cell_type": "code",
   "execution_count": 178,
   "metadata": {},
   "outputs": [],
   "source": [
    "def get_genres_for_clust(clust_num):\n",
    "    clust_genres = [i.split('|') for i in movies[movies.clusts==clust_num].genres.values]\n",
    "    clust_genres_flattened = [j for i in clust_genres for j in i]\n",
    "    clusts_counter = Counter(clust_genres_flattened)\n",
    "    return sorted(clusts_counter.items(), key = lambda x: x[1], reverse = True)"
   ]
  },
  {
   "cell_type": "code",
   "execution_count": 179,
   "metadata": {},
   "outputs": [
    {
     "name": "stdout",
     "output_type": "stream",
     "text": [
      "cluster: 0, top genres: [('Drama', 649), ('Comedy', 339), ('Romance', 156), ('Thriller', 139), ('Action', 96)]\n",
      "cluster: 1, top genres: [('Drama', 51), ('Comedy', 28), ('Romance', 8), ('Crime', 6), ('Horror', 6)]\n",
      "cluster: 2, top genres: [('Comedy', 288), ('Action', 163), ('Horror', 156), ('Drama', 118), ('Thriller', 111)]\n",
      "cluster: 3, top genres: [('Drama', 53), ('Comedy', 23), ('Documentary', 12), ('Romance', 10), ('Horror', 7)]\n",
      "cluster: 4, top genres: [('Drama', 48), ('Comedy', 23), ('Thriller', 9), ('Romance', 6), ('Action', 5)]\n",
      "cluster: 5, top genres: [('Drama', 482), ('Comedy', 416), ('Action', 213), ('Romance', 204), ('Thriller', 201)]\n",
      "cluster: 6, top genres: [('Drama', 1)]\n",
      "cluster: 7, top genres: [('Drama', 27), ('Comedy', 15), ('Romance', 7), ('Action', 6), ('Documentary', 5)]\n",
      "cluster: 8, top genres: [('Comedy', 1), ('Drama', 1), ('Western', 1)]\n",
      "cluster: 9, top genres: [('Drama', 47), ('Comedy', 24), ('Thriller', 9), ('Documentary', 8), ('Horror', 8)]\n"
     ]
    }
   ],
   "source": [
    "for i in range(len(set(clusts))):\n",
    "    print ('cluster: {}, top genres: {}'.format(i, get_genres_for_clust(i)[:5]))"
   ]
  },
  {
   "cell_type": "code",
   "execution_count": null,
   "metadata": {},
   "outputs": [],
   "source": []
  },
  {
   "cell_type": "code",
   "execution_count": null,
   "metadata": {},
   "outputs": [],
   "source": []
  },
  {
   "cell_type": "code",
   "execution_count": 211,
   "metadata": {},
   "outputs": [],
   "source": [
    "def closest_movies_to(movie_name):\n",
    "    movie_enum = movies[movies.title==movie_name]\n",
    "    if len(movie_enum) == 0: return 'No such movie found'\n",
    "    ix = movie_enum.movieEnum.iloc[0]\n",
    "    norms = np.linalg.norm(movie_factors - movie_factors[ix], axis=1)\n",
    "    return movies[movies.movieEnum.isin(np.argsort(norms)[1:4])]"
   ]
  },
  {
   "cell_type": "code",
   "execution_count": 212,
   "metadata": {},
   "outputs": [
    {
     "data": {
      "text/html": [
       "<div>\n",
       "<style scoped>\n",
       "    .dataframe tbody tr th:only-of-type {\n",
       "        vertical-align: middle;\n",
       "    }\n",
       "\n",
       "    .dataframe tbody tr th {\n",
       "        vertical-align: top;\n",
       "    }\n",
       "\n",
       "    .dataframe thead th {\n",
       "        text-align: right;\n",
       "    }\n",
       "</style>\n",
       "<table border=\"1\" class=\"dataframe\">\n",
       "  <thead>\n",
       "    <tr style=\"text-align: right;\">\n",
       "      <th></th>\n",
       "      <th>movieID</th>\n",
       "      <th>title</th>\n",
       "      <th>genres</th>\n",
       "      <th>movieId</th>\n",
       "      <th>movieEnum</th>\n",
       "      <th>clusts</th>\n",
       "    </tr>\n",
       "  </thead>\n",
       "  <tbody>\n",
       "    <tr>\n",
       "      <th>427</th>\n",
       "      <td>431</td>\n",
       "      <td>Carlito's Way (1993)</td>\n",
       "      <td>Crime|Drama</td>\n",
       "      <td>431</td>\n",
       "      <td>2110</td>\n",
       "      <td>0</td>\n",
       "    </tr>\n",
       "    <tr>\n",
       "      <th>1439</th>\n",
       "      <td>1466</td>\n",
       "      <td>Donnie Brasco (1997)</td>\n",
       "      <td>Crime|Drama</td>\n",
       "      <td>1466</td>\n",
       "      <td>587</td>\n",
       "      <td>0</td>\n",
       "    </tr>\n",
       "    <tr>\n",
       "      <th>3100</th>\n",
       "      <td>3169</td>\n",
       "      <td>Falcon and the Snowman, The (1984)</td>\n",
       "      <td>Drama</td>\n",
       "      <td>3169</td>\n",
       "      <td>1105</td>\n",
       "      <td>0</td>\n",
       "    </tr>\n",
       "  </tbody>\n",
       "</table>\n",
       "</div>"
      ],
      "text/plain": [
       "      movieID                               title       genres  movieId  \\\n",
       "427       431                Carlito's Way (1993)  Crime|Drama      431   \n",
       "1439     1466                Donnie Brasco (1997)  Crime|Drama     1466   \n",
       "3100     3169  Falcon and the Snowman, The (1984)        Drama     3169   \n",
       "\n",
       "      movieEnum  clusts  \n",
       "427        2110       0  \n",
       "1439        587       0  \n",
       "3100       1105       0  "
      ]
     },
     "execution_count": 212,
     "metadata": {},
     "output_type": "execute_result"
    }
   ],
   "source": [
    "closest_movies_to('Heat (1995)')"
   ]
  },
  {
   "cell_type": "code",
   "execution_count": 213,
   "metadata": {},
   "outputs": [
    {
     "data": {
      "text/html": [
       "<div>\n",
       "<style scoped>\n",
       "    .dataframe tbody tr th:only-of-type {\n",
       "        vertical-align: middle;\n",
       "    }\n",
       "\n",
       "    .dataframe tbody tr th {\n",
       "        vertical-align: top;\n",
       "    }\n",
       "\n",
       "    .dataframe thead th {\n",
       "        text-align: right;\n",
       "    }\n",
       "</style>\n",
       "<table border=\"1\" class=\"dataframe\">\n",
       "  <thead>\n",
       "    <tr style=\"text-align: right;\">\n",
       "      <th></th>\n",
       "      <th>movieID</th>\n",
       "      <th>title</th>\n",
       "      <th>genres</th>\n",
       "      <th>movieId</th>\n",
       "      <th>movieEnum</th>\n",
       "      <th>clusts</th>\n",
       "    </tr>\n",
       "  </thead>\n",
       "  <tbody>\n",
       "    <tr>\n",
       "      <th>1901</th>\n",
       "      <td>1970</td>\n",
       "      <td>Nightmare on Elm Street 3: Dream Warriors, A (...</td>\n",
       "      <td>Horror</td>\n",
       "      <td>1970</td>\n",
       "      <td>2243</td>\n",
       "      <td>2</td>\n",
       "    </tr>\n",
       "    <tr>\n",
       "      <th>1903</th>\n",
       "      <td>1972</td>\n",
       "      <td>Nightmare on Elm Street 5: The Dream Child, A ...</td>\n",
       "      <td>Horror</td>\n",
       "      <td>1972</td>\n",
       "      <td>1720</td>\n",
       "      <td>2</td>\n",
       "    </tr>\n",
       "    <tr>\n",
       "      <th>1904</th>\n",
       "      <td>1973</td>\n",
       "      <td>Freddy's Dead: The Final Nightmare (1991)</td>\n",
       "      <td>Horror</td>\n",
       "      <td>1973</td>\n",
       "      <td>718</td>\n",
       "      <td>2</td>\n",
       "    </tr>\n",
       "  </tbody>\n",
       "</table>\n",
       "</div>"
      ],
      "text/plain": [
       "      movieID                                              title  genres  \\\n",
       "1901     1970  Nightmare on Elm Street 3: Dream Warriors, A (...  Horror   \n",
       "1903     1972  Nightmare on Elm Street 5: The Dream Child, A ...  Horror   \n",
       "1904     1973          Freddy's Dead: The Final Nightmare (1991)  Horror   \n",
       "\n",
       "      movieId  movieEnum  clusts  \n",
       "1901     1970       2243       2  \n",
       "1903     1972       1720       2  \n",
       "1904     1973        718       2  "
      ]
     },
     "execution_count": 213,
     "metadata": {},
     "output_type": "execute_result"
    }
   ],
   "source": [
    "closest_movies_to('Nightmare on Elm Street 4: The Dream Master, A (1988)')"
   ]
  },
  {
   "cell_type": "code",
   "execution_count": 217,
   "metadata": {},
   "outputs": [
    {
     "data": {
      "text/html": [
       "<div>\n",
       "<style scoped>\n",
       "    .dataframe tbody tr th:only-of-type {\n",
       "        vertical-align: middle;\n",
       "    }\n",
       "\n",
       "    .dataframe tbody tr th {\n",
       "        vertical-align: top;\n",
       "    }\n",
       "\n",
       "    .dataframe thead th {\n",
       "        text-align: right;\n",
       "    }\n",
       "</style>\n",
       "<table border=\"1\" class=\"dataframe\">\n",
       "  <thead>\n",
       "    <tr style=\"text-align: right;\">\n",
       "      <th></th>\n",
       "      <th>movieID</th>\n",
       "      <th>title</th>\n",
       "      <th>genres</th>\n",
       "      <th>movieId</th>\n",
       "      <th>movieEnum</th>\n",
       "      <th>clusts</th>\n",
       "    </tr>\n",
       "  </thead>\n",
       "  <tbody>\n",
       "    <tr>\n",
       "      <th>2009</th>\n",
       "      <td>2078</td>\n",
       "      <td>Jungle Book, The (1967)</td>\n",
       "      <td>Animation|Children's|Comedy|Musical</td>\n",
       "      <td>2078</td>\n",
       "      <td>946</td>\n",
       "      <td>0</td>\n",
       "    </tr>\n",
       "    <tr>\n",
       "      <th>2018</th>\n",
       "      <td>2087</td>\n",
       "      <td>Peter Pan (1953)</td>\n",
       "      <td>Animation|Children's|Fantasy|Musical</td>\n",
       "      <td>2087</td>\n",
       "      <td>830</td>\n",
       "      <td>0</td>\n",
       "    </tr>\n",
       "    <tr>\n",
       "      <th>2021</th>\n",
       "      <td>2090</td>\n",
       "      <td>Rescuers, The (1977)</td>\n",
       "      <td>Animation|Children's</td>\n",
       "      <td>2090</td>\n",
       "      <td>569</td>\n",
       "      <td>5</td>\n",
       "    </tr>\n",
       "  </tbody>\n",
       "</table>\n",
       "</div>"
      ],
      "text/plain": [
       "      movieID                    title                                genres  \\\n",
       "2009     2078  Jungle Book, The (1967)   Animation|Children's|Comedy|Musical   \n",
       "2018     2087         Peter Pan (1953)  Animation|Children's|Fantasy|Musical   \n",
       "2021     2090     Rescuers, The (1977)                  Animation|Children's   \n",
       "\n",
       "      movieId  movieEnum  clusts  \n",
       "2009     2078        946       0  \n",
       "2018     2087        830       0  \n",
       "2021     2090        569       5  "
      ]
     },
     "execution_count": 217,
     "metadata": {},
     "output_type": "execute_result"
    }
   ],
   "source": [
    "closest_movies_to('Great Mouse Detective, The (1986)')"
   ]
  },
  {
   "cell_type": "code",
   "execution_count": null,
   "metadata": {},
   "outputs": [],
   "source": []
  },
  {
   "cell_type": "code",
   "execution_count": null,
   "metadata": {},
   "outputs": [],
   "source": []
  },
  {
   "cell_type": "code",
   "execution_count": null,
   "metadata": {},
   "outputs": [],
   "source": []
  },
  {
   "cell_type": "code",
   "execution_count": 270,
   "metadata": {},
   "outputs": [],
   "source": [
    "some_factor_vector = np.zeros(50)\n",
    "some_factor_vector[30] = 10"
   ]
  },
  {
   "cell_type": "code",
   "execution_count": 271,
   "metadata": {},
   "outputs": [
    {
     "data": {
      "text/html": [
       "<div>\n",
       "<style scoped>\n",
       "    .dataframe tbody tr th:only-of-type {\n",
       "        vertical-align: middle;\n",
       "    }\n",
       "\n",
       "    .dataframe tbody tr th {\n",
       "        vertical-align: top;\n",
       "    }\n",
       "\n",
       "    .dataframe thead th {\n",
       "        text-align: right;\n",
       "    }\n",
       "</style>\n",
       "<table border=\"1\" class=\"dataframe\">\n",
       "  <thead>\n",
       "    <tr style=\"text-align: right;\">\n",
       "      <th></th>\n",
       "      <th>movieID</th>\n",
       "      <th>title</th>\n",
       "      <th>genres</th>\n",
       "      <th>movieId</th>\n",
       "      <th>movieEnum</th>\n",
       "      <th>clusts</th>\n",
       "    </tr>\n",
       "  </thead>\n",
       "  <tbody>\n",
       "    <tr>\n",
       "      <th>53</th>\n",
       "      <td>54</td>\n",
       "      <td>Big Green, The (1995)</td>\n",
       "      <td>Children's|Comedy</td>\n",
       "      <td>54</td>\n",
       "      <td>3234</td>\n",
       "      <td>2</td>\n",
       "    </tr>\n",
       "    <tr>\n",
       "      <th>443</th>\n",
       "      <td>447</td>\n",
       "      <td>Favor, The (1994)</td>\n",
       "      <td>Comedy|Romance</td>\n",
       "      <td>447</td>\n",
       "      <td>2765</td>\n",
       "      <td>2</td>\n",
       "    </tr>\n",
       "    <tr>\n",
       "      <th>864</th>\n",
       "      <td>875</td>\n",
       "      <td>Nothing to Lose (1994)</td>\n",
       "      <td>Drama</td>\n",
       "      <td>875</td>\n",
       "      <td>2704</td>\n",
       "      <td>5</td>\n",
       "    </tr>\n",
       "    <tr>\n",
       "      <th>1521</th>\n",
       "      <td>1561</td>\n",
       "      <td>Wedding Bell Blues (1996)</td>\n",
       "      <td>Comedy</td>\n",
       "      <td>1561</td>\n",
       "      <td>2515</td>\n",
       "      <td>4</td>\n",
       "    </tr>\n",
       "    <tr>\n",
       "      <th>2110</th>\n",
       "      <td>2179</td>\n",
       "      <td>Topaz (1969)</td>\n",
       "      <td>Thriller</td>\n",
       "      <td>2179</td>\n",
       "      <td>1645</td>\n",
       "      <td>5</td>\n",
       "    </tr>\n",
       "    <tr>\n",
       "      <th>2768</th>\n",
       "      <td>2837</td>\n",
       "      <td>Bedrooms &amp; Hallways (1998)</td>\n",
       "      <td>Comedy|Romance</td>\n",
       "      <td>2837</td>\n",
       "      <td>3447</td>\n",
       "      <td>0</td>\n",
       "    </tr>\n",
       "    <tr>\n",
       "      <th>2989</th>\n",
       "      <td>3058</td>\n",
       "      <td>Ape, The (1940)</td>\n",
       "      <td>Horror|Sci-Fi</td>\n",
       "      <td>3058</td>\n",
       "      <td>3350</td>\n",
       "      <td>2</td>\n",
       "    </tr>\n",
       "    <tr>\n",
       "      <th>3685</th>\n",
       "      <td>3754</td>\n",
       "      <td>Adventures of Rocky and Bullwinkle, The (2000)</td>\n",
       "      <td>Animation|Children's|Comedy</td>\n",
       "      <td>3754</td>\n",
       "      <td>98</td>\n",
       "      <td>2</td>\n",
       "    </tr>\n",
       "    <tr>\n",
       "      <th>3778</th>\n",
       "      <td>3848</td>\n",
       "      <td>Silent Fall (1994)</td>\n",
       "      <td>Drama|Thriller</td>\n",
       "      <td>3848</td>\n",
       "      <td>3303</td>\n",
       "      <td>9</td>\n",
       "    </tr>\n",
       "    <tr>\n",
       "      <th>3813</th>\n",
       "      <td>3883</td>\n",
       "      <td>Catfish in Black Bean Sauce (2000)</td>\n",
       "      <td>Comedy|Drama</td>\n",
       "      <td>3883</td>\n",
       "      <td>2997</td>\n",
       "      <td>4</td>\n",
       "    </tr>\n",
       "  </tbody>\n",
       "</table>\n",
       "</div>"
      ],
      "text/plain": [
       "      movieID                                           title  \\\n",
       "53         54                           Big Green, The (1995)   \n",
       "443       447                               Favor, The (1994)   \n",
       "864       875                          Nothing to Lose (1994)   \n",
       "1521     1561                       Wedding Bell Blues (1996)   \n",
       "2110     2179                                    Topaz (1969)   \n",
       "2768     2837                      Bedrooms & Hallways (1998)   \n",
       "2989     3058                                 Ape, The (1940)   \n",
       "3685     3754  Adventures of Rocky and Bullwinkle, The (2000)   \n",
       "3778     3848                              Silent Fall (1994)   \n",
       "3813     3883              Catfish in Black Bean Sauce (2000)   \n",
       "\n",
       "                           genres  movieId  movieEnum  clusts  \n",
       "53              Children's|Comedy       54       3234       2  \n",
       "443                Comedy|Romance      447       2765       2  \n",
       "864                         Drama      875       2704       5  \n",
       "1521                       Comedy     1561       2515       4  \n",
       "2110                     Thriller     2179       1645       5  \n",
       "2768               Comedy|Romance     2837       3447       0  \n",
       "2989                Horror|Sci-Fi     3058       3350       2  \n",
       "3685  Animation|Children's|Comedy     3754         98       2  \n",
       "3778               Drama|Thriller     3848       3303       9  \n",
       "3813                 Comedy|Drama     3883       2997       4  "
      ]
     },
     "execution_count": 271,
     "metadata": {},
     "output_type": "execute_result"
    }
   ],
   "source": [
    "norms = np.linalg.norm(movie_factors - some_factor_vector, axis=1)\n",
    "movies[movies.movieEnum.isin(np.argsort(norms)[:10])]"
   ]
  },
  {
   "cell_type": "code",
   "execution_count": null,
   "metadata": {},
   "outputs": [],
   "source": []
  },
  {
   "cell_type": "code",
   "execution_count": null,
   "metadata": {},
   "outputs": [],
   "source": []
  },
  {
   "cell_type": "code",
   "execution_count": 274,
   "metadata": {},
   "outputs": [],
   "source": [
    "some_factor_vector = np.zeros(50)\n",
    "some_factor_vector[35] = 10"
   ]
  },
  {
   "cell_type": "code",
   "execution_count": 275,
   "metadata": {},
   "outputs": [
    {
     "data": {
      "text/html": [
       "<div>\n",
       "<style scoped>\n",
       "    .dataframe tbody tr th:only-of-type {\n",
       "        vertical-align: middle;\n",
       "    }\n",
       "\n",
       "    .dataframe tbody tr th {\n",
       "        vertical-align: top;\n",
       "    }\n",
       "\n",
       "    .dataframe thead th {\n",
       "        text-align: right;\n",
       "    }\n",
       "</style>\n",
       "<table border=\"1\" class=\"dataframe\">\n",
       "  <thead>\n",
       "    <tr style=\"text-align: right;\">\n",
       "      <th></th>\n",
       "      <th>movieID</th>\n",
       "      <th>title</th>\n",
       "      <th>genres</th>\n",
       "      <th>movieId</th>\n",
       "      <th>movieEnum</th>\n",
       "      <th>clusts</th>\n",
       "    </tr>\n",
       "  </thead>\n",
       "  <tbody>\n",
       "    <tr>\n",
       "      <th>82</th>\n",
       "      <td>83</td>\n",
       "      <td>Once Upon a Time... When We Were Colored (1995)</td>\n",
       "      <td>Drama</td>\n",
       "      <td>83</td>\n",
       "      <td>2639</td>\n",
       "      <td>0</td>\n",
       "    </tr>\n",
       "    <tr>\n",
       "      <th>146</th>\n",
       "      <td>148</td>\n",
       "      <td>Awfully Big Adventure, An (1995)</td>\n",
       "      <td>Drama</td>\n",
       "      <td>148</td>\n",
       "      <td>2976</td>\n",
       "      <td>5</td>\n",
       "    </tr>\n",
       "    <tr>\n",
       "      <th>813</th>\n",
       "      <td>824</td>\n",
       "      <td>Kaspar Hauser (1993)</td>\n",
       "      <td>Drama</td>\n",
       "      <td>824</td>\n",
       "      <td>163</td>\n",
       "      <td>0</td>\n",
       "    </tr>\n",
       "    <tr>\n",
       "      <th>1049</th>\n",
       "      <td>1063</td>\n",
       "      <td>Johns (1996)</td>\n",
       "      <td>Drama</td>\n",
       "      <td>1063</td>\n",
       "      <td>2156</td>\n",
       "      <td>5</td>\n",
       "    </tr>\n",
       "    <tr>\n",
       "      <th>1555</th>\n",
       "      <td>1596</td>\n",
       "      <td>Career Girls (1997)</td>\n",
       "      <td>Drama</td>\n",
       "      <td>1596</td>\n",
       "      <td>3176</td>\n",
       "      <td>0</td>\n",
       "    </tr>\n",
       "    <tr>\n",
       "      <th>1803</th>\n",
       "      <td>1872</td>\n",
       "      <td>Go Now (1995)</td>\n",
       "      <td>Drama</td>\n",
       "      <td>1872</td>\n",
       "      <td>3122</td>\n",
       "      <td>4</td>\n",
       "    </tr>\n",
       "    <tr>\n",
       "      <th>2510</th>\n",
       "      <td>2579</td>\n",
       "      <td>Following (1998)</td>\n",
       "      <td>Drama</td>\n",
       "      <td>2579</td>\n",
       "      <td>1587</td>\n",
       "      <td>0</td>\n",
       "    </tr>\n",
       "    <tr>\n",
       "      <th>2620</th>\n",
       "      <td>2689</td>\n",
       "      <td>Get Bruce (1999)</td>\n",
       "      <td>Documentary</td>\n",
       "      <td>2689</td>\n",
       "      <td>3308</td>\n",
       "      <td>5</td>\n",
       "    </tr>\n",
       "    <tr>\n",
       "      <th>3563</th>\n",
       "      <td>3632</td>\n",
       "      <td>Monsieur Verdoux (1947)</td>\n",
       "      <td>Comedy</td>\n",
       "      <td>3632</td>\n",
       "      <td>2135</td>\n",
       "      <td>0</td>\n",
       "    </tr>\n",
       "    <tr>\n",
       "      <th>3703</th>\n",
       "      <td>3772</td>\n",
       "      <td>Hatchet For the Honeymoon (Rosso Segno Della F...</td>\n",
       "      <td>Horror</td>\n",
       "      <td>3772</td>\n",
       "      <td>3660</td>\n",
       "      <td>7</td>\n",
       "    </tr>\n",
       "  </tbody>\n",
       "</table>\n",
       "</div>"
      ],
      "text/plain": [
       "      movieID                                              title       genres  \\\n",
       "82         83    Once Upon a Time... When We Were Colored (1995)        Drama   \n",
       "146       148                   Awfully Big Adventure, An (1995)        Drama   \n",
       "813       824                               Kaspar Hauser (1993)        Drama   \n",
       "1049     1063                                       Johns (1996)        Drama   \n",
       "1555     1596                                Career Girls (1997)        Drama   \n",
       "1803     1872                                      Go Now (1995)        Drama   \n",
       "2510     2579                                   Following (1998)        Drama   \n",
       "2620     2689                                   Get Bruce (1999)  Documentary   \n",
       "3563     3632                            Monsieur Verdoux (1947)       Comedy   \n",
       "3703     3772  Hatchet For the Honeymoon (Rosso Segno Della F...       Horror   \n",
       "\n",
       "      movieId  movieEnum  clusts  \n",
       "82         83       2639       0  \n",
       "146       148       2976       5  \n",
       "813       824        163       0  \n",
       "1049     1063       2156       5  \n",
       "1555     1596       3176       0  \n",
       "1803     1872       3122       4  \n",
       "2510     2579       1587       0  \n",
       "2620     2689       3308       5  \n",
       "3563     3632       2135       0  \n",
       "3703     3772       3660       7  "
      ]
     },
     "execution_count": 275,
     "metadata": {},
     "output_type": "execute_result"
    }
   ],
   "source": [
    "norms = np.linalg.norm(movie_factors - some_factor_vector, axis=1)\n",
    "movies[movies.movieEnum.isin(np.argsort(norms)[:10])]"
   ]
  },
  {
   "cell_type": "code",
   "execution_count": null,
   "metadata": {},
   "outputs": [],
   "source": []
  },
  {
   "cell_type": "code",
   "execution_count": null,
   "metadata": {},
   "outputs": [],
   "source": []
  }
 ],
 "metadata": {
  "kernelspec": {
   "display_name": "Python 3",
   "language": "python",
   "name": "python3"
  },
  "language_info": {
   "codemirror_mode": {
    "name": "ipython",
    "version": 3
   },
   "file_extension": ".py",
   "mimetype": "text/x-python",
   "name": "python",
   "nbconvert_exporter": "python",
   "pygments_lexer": "ipython3",
   "version": "3.7.1"
  }
 },
 "nbformat": 4,
 "nbformat_minor": 2
}
